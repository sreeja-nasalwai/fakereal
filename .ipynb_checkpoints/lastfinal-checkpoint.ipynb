{
 "cells": [
  {
   "cell_type": "code",
   "execution_count": 1,
   "id": "856aa89a",
   "metadata": {},
   "outputs": [],
   "source": [
    "import pandas as pd\n",
    "import numpy as np\n",
    "import re"
   ]
  },
  {
   "cell_type": "code",
   "execution_count": 2,
   "id": "fb1d0425",
   "metadata": {},
   "outputs": [],
   "source": [
    "from sklearn.model_selection import train_test_split\n",
    "from sklearn.feature_extraction.text import TfidfVectorizer\n",
    "from sklearn.preprocessing import LabelEncoder\n",
    "from sklearn.ensemble import RandomForestClassifier, GradientBoostingClassifier\n",
    "from sklearn.linear_model import LogisticRegression\n",
    "from sklearn.svm import SVC\n",
    "from sklearn.metrics import accuracy_score, classification_report"
   ]
  },
  {
   "cell_type": "code",
   "execution_count": 3,
   "id": "4ba6a38c",
   "metadata": {},
   "outputs": [],
   "source": [
    "data = pd.read_csv(r\"C:/Users/shyamrao/Desktop/fake job/fake_job_postings.csv\")"
   ]
  },
  {
   "cell_type": "code",
   "execution_count": 4,
   "id": "b0f7f566",
   "metadata": {},
   "outputs": [
    {
     "data": {
      "text/plain": [
       "(17880, 18)"
      ]
     },
     "execution_count": 4,
     "metadata": {},
     "output_type": "execute_result"
    }
   ],
   "source": [
    "data.shape"
   ]
  },
  {
   "cell_type": "code",
   "execution_count": 5,
   "id": "da0e00d9",
   "metadata": {},
   "outputs": [
    {
     "data": {
      "text/html": [
       "<div>\n",
       "<style scoped>\n",
       "    .dataframe tbody tr th:only-of-type {\n",
       "        vertical-align: middle;\n",
       "    }\n",
       "\n",
       "    .dataframe tbody tr th {\n",
       "        vertical-align: top;\n",
       "    }\n",
       "\n",
       "    .dataframe thead th {\n",
       "        text-align: right;\n",
       "    }\n",
       "</style>\n",
       "<table border=\"1\" class=\"dataframe\">\n",
       "  <thead>\n",
       "    <tr style=\"text-align: right;\">\n",
       "      <th></th>\n",
       "      <th>job_id</th>\n",
       "      <th>title</th>\n",
       "      <th>location</th>\n",
       "      <th>department</th>\n",
       "      <th>salary_range</th>\n",
       "      <th>company_profile</th>\n",
       "      <th>description</th>\n",
       "      <th>requirements</th>\n",
       "      <th>benefits</th>\n",
       "      <th>telecommuting</th>\n",
       "      <th>has_company_logo</th>\n",
       "      <th>has_questions</th>\n",
       "      <th>employment_type</th>\n",
       "      <th>required_experience</th>\n",
       "      <th>required_education</th>\n",
       "      <th>industry</th>\n",
       "      <th>function</th>\n",
       "      <th>fraudulent</th>\n",
       "    </tr>\n",
       "  </thead>\n",
       "  <tbody>\n",
       "    <tr>\n",
       "      <th>0</th>\n",
       "      <td>1</td>\n",
       "      <td>Marketing Intern</td>\n",
       "      <td>US, NY, New York</td>\n",
       "      <td>Marketing</td>\n",
       "      <td>NaN</td>\n",
       "      <td>We're Food52, and we've created a groundbreaki...</td>\n",
       "      <td>Food52, a fast-growing, James Beard Award-winn...</td>\n",
       "      <td>Experience with content management systems a m...</td>\n",
       "      <td>NaN</td>\n",
       "      <td>0</td>\n",
       "      <td>1</td>\n",
       "      <td>0</td>\n",
       "      <td>Other</td>\n",
       "      <td>Internship</td>\n",
       "      <td>NaN</td>\n",
       "      <td>NaN</td>\n",
       "      <td>Marketing</td>\n",
       "      <td>0</td>\n",
       "    </tr>\n",
       "    <tr>\n",
       "      <th>1</th>\n",
       "      <td>2</td>\n",
       "      <td>Customer Service - Cloud Video Production</td>\n",
       "      <td>NZ, , Auckland</td>\n",
       "      <td>Success</td>\n",
       "      <td>NaN</td>\n",
       "      <td>90 Seconds, the worlds Cloud Video Production ...</td>\n",
       "      <td>Organised - Focused - Vibrant - Awesome!Do you...</td>\n",
       "      <td>What we expect from you:Your key responsibilit...</td>\n",
       "      <td>What you will get from usThrough being part of...</td>\n",
       "      <td>0</td>\n",
       "      <td>1</td>\n",
       "      <td>0</td>\n",
       "      <td>Full-time</td>\n",
       "      <td>Not Applicable</td>\n",
       "      <td>NaN</td>\n",
       "      <td>Marketing and Advertising</td>\n",
       "      <td>Customer Service</td>\n",
       "      <td>0</td>\n",
       "    </tr>\n",
       "    <tr>\n",
       "      <th>2</th>\n",
       "      <td>3</td>\n",
       "      <td>Commissioning Machinery Assistant (CMA)</td>\n",
       "      <td>US, IA, Wever</td>\n",
       "      <td>NaN</td>\n",
       "      <td>NaN</td>\n",
       "      <td>Valor Services provides Workforce Solutions th...</td>\n",
       "      <td>Our client, located in Houston, is actively se...</td>\n",
       "      <td>Implement pre-commissioning and commissioning ...</td>\n",
       "      <td>NaN</td>\n",
       "      <td>0</td>\n",
       "      <td>1</td>\n",
       "      <td>0</td>\n",
       "      <td>NaN</td>\n",
       "      <td>NaN</td>\n",
       "      <td>NaN</td>\n",
       "      <td>NaN</td>\n",
       "      <td>NaN</td>\n",
       "      <td>0</td>\n",
       "    </tr>\n",
       "    <tr>\n",
       "      <th>3</th>\n",
       "      <td>4</td>\n",
       "      <td>Account Executive - Washington DC</td>\n",
       "      <td>US, DC, Washington</td>\n",
       "      <td>Sales</td>\n",
       "      <td>NaN</td>\n",
       "      <td>Our passion for improving quality of life thro...</td>\n",
       "      <td>THE COMPANY: ESRI – Environmental Systems Rese...</td>\n",
       "      <td>EDUCATION: Bachelor’s or Master’s in GIS, busi...</td>\n",
       "      <td>Our culture is anything but corporate—we have ...</td>\n",
       "      <td>0</td>\n",
       "      <td>1</td>\n",
       "      <td>0</td>\n",
       "      <td>Full-time</td>\n",
       "      <td>Mid-Senior level</td>\n",
       "      <td>Bachelor's Degree</td>\n",
       "      <td>Computer Software</td>\n",
       "      <td>Sales</td>\n",
       "      <td>0</td>\n",
       "    </tr>\n",
       "    <tr>\n",
       "      <th>4</th>\n",
       "      <td>5</td>\n",
       "      <td>Bill Review Manager</td>\n",
       "      <td>US, FL, Fort Worth</td>\n",
       "      <td>NaN</td>\n",
       "      <td>NaN</td>\n",
       "      <td>SpotSource Solutions LLC is a Global Human Cap...</td>\n",
       "      <td>JOB TITLE: Itemization Review ManagerLOCATION:...</td>\n",
       "      <td>QUALIFICATIONS:RN license in the State of Texa...</td>\n",
       "      <td>Full Benefits Offered</td>\n",
       "      <td>0</td>\n",
       "      <td>1</td>\n",
       "      <td>1</td>\n",
       "      <td>Full-time</td>\n",
       "      <td>Mid-Senior level</td>\n",
       "      <td>Bachelor's Degree</td>\n",
       "      <td>Hospital &amp; Health Care</td>\n",
       "      <td>Health Care Provider</td>\n",
       "      <td>0</td>\n",
       "    </tr>\n",
       "  </tbody>\n",
       "</table>\n",
       "</div>"
      ],
      "text/plain": [
       "   job_id                                      title            location  \\\n",
       "0       1                           Marketing Intern    US, NY, New York   \n",
       "1       2  Customer Service - Cloud Video Production      NZ, , Auckland   \n",
       "2       3    Commissioning Machinery Assistant (CMA)       US, IA, Wever   \n",
       "3       4          Account Executive - Washington DC  US, DC, Washington   \n",
       "4       5                        Bill Review Manager  US, FL, Fort Worth   \n",
       "\n",
       "  department salary_range                                    company_profile  \\\n",
       "0  Marketing          NaN  We're Food52, and we've created a groundbreaki...   \n",
       "1    Success          NaN  90 Seconds, the worlds Cloud Video Production ...   \n",
       "2        NaN          NaN  Valor Services provides Workforce Solutions th...   \n",
       "3      Sales          NaN  Our passion for improving quality of life thro...   \n",
       "4        NaN          NaN  SpotSource Solutions LLC is a Global Human Cap...   \n",
       "\n",
       "                                         description  \\\n",
       "0  Food52, a fast-growing, James Beard Award-winn...   \n",
       "1  Organised - Focused - Vibrant - Awesome!Do you...   \n",
       "2  Our client, located in Houston, is actively se...   \n",
       "3  THE COMPANY: ESRI – Environmental Systems Rese...   \n",
       "4  JOB TITLE: Itemization Review ManagerLOCATION:...   \n",
       "\n",
       "                                        requirements  \\\n",
       "0  Experience with content management systems a m...   \n",
       "1  What we expect from you:Your key responsibilit...   \n",
       "2  Implement pre-commissioning and commissioning ...   \n",
       "3  EDUCATION: Bachelor’s or Master’s in GIS, busi...   \n",
       "4  QUALIFICATIONS:RN license in the State of Texa...   \n",
       "\n",
       "                                            benefits  telecommuting  \\\n",
       "0                                                NaN              0   \n",
       "1  What you will get from usThrough being part of...              0   \n",
       "2                                                NaN              0   \n",
       "3  Our culture is anything but corporate—we have ...              0   \n",
       "4                              Full Benefits Offered              0   \n",
       "\n",
       "   has_company_logo  has_questions employment_type required_experience  \\\n",
       "0                 1              0           Other          Internship   \n",
       "1                 1              0       Full-time      Not Applicable   \n",
       "2                 1              0             NaN                 NaN   \n",
       "3                 1              0       Full-time    Mid-Senior level   \n",
       "4                 1              1       Full-time    Mid-Senior level   \n",
       "\n",
       "  required_education                   industry              function  \\\n",
       "0                NaN                        NaN             Marketing   \n",
       "1                NaN  Marketing and Advertising      Customer Service   \n",
       "2                NaN                        NaN                   NaN   \n",
       "3  Bachelor's Degree          Computer Software                 Sales   \n",
       "4  Bachelor's Degree     Hospital & Health Care  Health Care Provider   \n",
       "\n",
       "   fraudulent  \n",
       "0           0  \n",
       "1           0  \n",
       "2           0  \n",
       "3           0  \n",
       "4           0  "
      ]
     },
     "execution_count": 5,
     "metadata": {},
     "output_type": "execute_result"
    }
   ],
   "source": [
    "data.head()"
   ]
  },
  {
   "cell_type": "code",
   "execution_count": 6,
   "id": "0540ee04",
   "metadata": {},
   "outputs": [
    {
     "data": {
      "text/plain": [
       "job_id                     0\n",
       "title                      0\n",
       "location                 346\n",
       "department             11547\n",
       "salary_range           15012\n",
       "company_profile         3308\n",
       "description                1\n",
       "requirements            2695\n",
       "benefits                7210\n",
       "telecommuting              0\n",
       "has_company_logo           0\n",
       "has_questions              0\n",
       "employment_type         3471\n",
       "required_experience     7050\n",
       "required_education      8105\n",
       "industry                4903\n",
       "function                6455\n",
       "fraudulent                 0\n",
       "dtype: int64"
      ]
     },
     "execution_count": 6,
     "metadata": {},
     "output_type": "execute_result"
    }
   ],
   "source": [
    "data.isnull().sum()"
   ]
  },
  {
   "cell_type": "code",
   "execution_count": 7,
   "id": "8df78c49",
   "metadata": {},
   "outputs": [],
   "source": [
    "data.interpolate(inplace=True)"
   ]
  },
  {
   "cell_type": "code",
   "execution_count": 8,
   "id": "0b2420e4",
   "metadata": {},
   "outputs": [
    {
     "data": {
      "text/plain": [
       "(17880, 18)"
      ]
     },
     "execution_count": 8,
     "metadata": {},
     "output_type": "execute_result"
    }
   ],
   "source": [
    "data.shape"
   ]
  },
  {
   "cell_type": "code",
   "execution_count": 9,
   "id": "20e0a11b",
   "metadata": {},
   "outputs": [],
   "source": [
    "def clean_text(text):\n",
    "    text = re.sub(r'http\\S+', '', text)  # Remove URLs\n",
    "    text = re.sub(r'[^a-zA-Z\\s]', '', text)  # Remove special characters and numbers\n",
    "    text = text.lower()  # Convert to lowercase\n",
    "    text = re.sub(r'\\s+', ' ', text).strip()  # Remove extra whitespaces\n",
    "    return text"
   ]
  },
  {
   "cell_type": "code",
   "execution_count": 10,
   "id": "e045794c",
   "metadata": {},
   "outputs": [],
   "source": [
    "text_fields = [\n",
    "    \"title\", \"location\", \"department\", \"company_profile\", \"description\",\n",
    "    \"requirements\", \"benefits\", \"required_experience\", \"required_education\"\n",
    "]"
   ]
  },
  {
   "cell_type": "code",
   "execution_count": 11,
   "id": "3bb2f2de",
   "metadata": {},
   "outputs": [],
   "source": [
    "data[\"combined_text\"] = data[text_fields].apply(lambda x: \" \".join(x.fillna(\"\")), axis=1)"
   ]
  },
  {
   "cell_type": "code",
   "execution_count": 12,
   "id": "fd2c802f",
   "metadata": {},
   "outputs": [],
   "source": [
    "\n",
    "data[\"combined_text\"] = data[\"combined_text\"].apply(clean_text)"
   ]
  },
  {
   "cell_type": "code",
   "execution_count": 13,
   "id": "2bbf75c0",
   "metadata": {},
   "outputs": [],
   "source": [
    "label_encoder = LabelEncoder()\n",
    "data[\"employment_type\"] = label_encoder.fit_transform(data[\"employment_type\"])\n",
    "data[\"industry\"] = label_encoder.fit_transform(data[\"industry\"])\n",
    "data[\"function\"] = label_encoder.fit_transform(data[\"function\"])"
   ]
  },
  {
   "cell_type": "code",
   "execution_count": 14,
   "id": "a10ef36b",
   "metadata": {},
   "outputs": [],
   "source": [
    "tfidf = TfidfVectorizer(stop_words=\"english\", max_features=5000)\n",
    "X_text = tfidf.fit_transform(data[\"combined_text\"])"
   ]
  },
  {
   "cell_type": "code",
   "execution_count": 15,
   "id": "08f1d653",
   "metadata": {},
   "outputs": [],
   "source": [
    "X_numerical = data[[\"employment_type\", \"industry\", \"function\"]]\n",
    "X = np.hstack((X_text.toarray(), X_numerical))"
   ]
  },
  {
   "cell_type": "code",
   "execution_count": 16,
   "id": "ed1cc433",
   "metadata": {},
   "outputs": [],
   "source": [
    "y = label_encoder.fit_transform(data[\"fraudulent\"])"
   ]
  },
  {
   "cell_type": "code",
   "execution_count": 17,
   "id": "55018f1d",
   "metadata": {},
   "outputs": [],
   "source": [
    "X_train, X_test, y_train, y_test = train_test_split(X, y, test_size=0.2, random_state=42, stratify=y)"
   ]
  },
  {
   "cell_type": "code",
   "execution_count": 35,
   "id": "14d5bc67",
   "metadata": {},
   "outputs": [],
   "source": [
    "models = {\n",
    "    \"Logistic Regression\": LogisticRegression(solver=\"saga\", max_iter=500),\n",
    "    \"Random Forest\": RandomForestClassifier(n_estimators=50, max_depth=10, n_jobs=-1),\n",
    "    \"SVM\": SVC(kernel=\"linear\", probability=True)\n",
    "}"
   ]
  },
  {
   "cell_type": "code",
   "execution_count": 117,
   "id": "6d2aa3d0",
   "metadata": {},
   "outputs": [
    {
     "name": "stderr",
     "output_type": "stream",
     "text": [
      "C:\\Users\\shyamrao\\anaconda3\\lib\\site-packages\\sklearn\\linear_model\\_sag.py:328: ConvergenceWarning: The max_iter was reached which means the coef_ did not converge\n",
      "  warnings.warn(\"The max_iter was reached which means \"\n"
     ]
    },
    {
     "name": "stdout",
     "output_type": "stream",
     "text": [
      "Logistic Regression Accuracy: 0.95\n",
      "Logistic Regression Classification Report:\n",
      "              precision    recall  f1-score   support\n",
      "\n",
      "           0       0.95      1.00      0.98      3403\n",
      "           1       0.00      0.00      0.00       173\n",
      "\n",
      "    accuracy                           0.95      3576\n",
      "   macro avg       0.48      0.50      0.49      3576\n",
      "weighted avg       0.91      0.95      0.93      3576\n",
      "\n"
     ]
    },
    {
     "name": "stderr",
     "output_type": "stream",
     "text": [
      "C:\\Users\\shyamrao\\anaconda3\\lib\\site-packages\\sklearn\\metrics\\_classification.py:1245: UndefinedMetricWarning: Precision and F-score are ill-defined and being set to 0.0 in labels with no predicted samples. Use `zero_division` parameter to control this behavior.\n",
      "  _warn_prf(average, modifier, msg_start, len(result))\n",
      "C:\\Users\\shyamrao\\anaconda3\\lib\\site-packages\\sklearn\\metrics\\_classification.py:1245: UndefinedMetricWarning: Precision and F-score are ill-defined and being set to 0.0 in labels with no predicted samples. Use `zero_division` parameter to control this behavior.\n",
      "  _warn_prf(average, modifier, msg_start, len(result))\n",
      "C:\\Users\\shyamrao\\anaconda3\\lib\\site-packages\\sklearn\\metrics\\_classification.py:1245: UndefinedMetricWarning: Precision and F-score are ill-defined and being set to 0.0 in labels with no predicted samples. Use `zero_division` parameter to control this behavior.\n",
      "  _warn_prf(average, modifier, msg_start, len(result))\n"
     ]
    },
    {
     "name": "stdout",
     "output_type": "stream",
     "text": [
      "Random Forest Accuracy: 0.97\n",
      "Random Forest Classification Report:\n",
      "              precision    recall  f1-score   support\n",
      "\n",
      "           0       0.97      1.00      0.98      3403\n",
      "           1       1.00      0.29      0.45       173\n",
      "\n",
      "    accuracy                           0.97      3576\n",
      "   macro avg       0.98      0.64      0.72      3576\n",
      "weighted avg       0.97      0.97      0.96      3576\n",
      "\n",
      "SVM Accuracy: 0.98\n",
      "SVM Classification Report:\n",
      "              precision    recall  f1-score   support\n",
      "\n",
      "           0       0.98      1.00      0.99      3403\n",
      "           1       0.98      0.68      0.80       173\n",
      "\n",
      "    accuracy                           0.98      3576\n",
      "   macro avg       0.98      0.84      0.90      3576\n",
      "weighted avg       0.98      0.98      0.98      3576\n",
      "\n"
     ]
    }
   ],
   "source": [
    "model_accuracies = {}\n",
    "for name, model in models.items():\n",
    "    model.fit(X_train, y_train)\n",
    "    y_pred = model.predict(X_test)\n",
    "    accuracy = accuracy_score(y_test, y_pred)\n",
    "    model_accuracies[name] = accuracy\n",
    "    print(f\"{name} Accuracy: {accuracy_score(y_test, y_pred):.2f}\")\n",
    "    print(f\"{name} Classification Report:\\n{classification_report(y_test, y_pred)}\")"
   ]
  },
  {
   "cell_type": "code",
   "execution_count": null,
   "id": "b6c89bd8",
   "metadata": {},
   "outputs": [],
   "source": [
    "best_model_name = max(model_accuracies, key=model_accuracies.get)\n",
    "best_model = models[best_model_name]\n",
    "print(f\"Best model selected: {best_model_name} with accuracy {model_accuracies[best_model_name]:.2f}\")"
   ]
  },
  {
   "cell_type": "code",
   "execution_count": 82,
   "id": "d79bf573",
   "metadata": {},
   "outputs": [],
   "source": [
    "from sklearn.preprocessing import LabelEncoder\n",
    "import numpy as np\n",
    "def predict_job(job_data):\n",
    "    \n",
    "    combined_text = \" \".join(\n",
    "        [\n",
    "            clean_text(job_data.get(\"title\", \"\")),\n",
    "            clean_text(job_data.get(\"company_profile\", \"\")),\n",
    "            clean_text(job_data.get(\"description\", \"\")),\n",
    "            clean_text(job_data.get(\"requirements\", \"\")),\n",
    "            clean_text(job_data.get(\"benefits\", \"\")),\n",
    "            clean_text(job_data.get(\"required_education\", \"\")),\n",
    "            clean_text(job_data.get(\"required_experience\", \"\")),\n",
    "            clean_text(job_data.get(\"location\", \"\")),\n",
    "            clean_text(job_data.get(\"department\", \"\")),\n",
    "        ]\n",
    "    )\n",
    "    \n",
    "    # Transform text using TF-IDF\n",
    "    text_features = tfidf.transform([combined_text]).toarray()\n",
    "\n",
    "    # Encode numerical features\n",
    "    try:\n",
    "        # Encode numerical features\n",
    "        numerical_features = np.array([\n",
    "            label_encoder.transform([job_data.get(\"employment_type\", \"0\")])[0] if np.isin(job_data.get(\"employment_type\", \"0\"), label_encoder.classes_) else -1,\n",
    "            label_encoder.transform([job_data.get(\"industry\", \"0\")])[0] if np.isin(job_data.get(\"industry\", \"0\"), label_encoder.classes_) else -1,\n",
    "            label_encoder.transform([job_data.get(\"function\", \"0\")])[0] if np.isin(job_data.get(\"function\", \"0\"), label_encoder.classes_) else -1,\n",
    "        ]).reshape(1, -1)\n",
    "    except ValueError as e:\n",
    "        print(f\"Error: {e}\")\n",
    "        return None\n",
    "    \n",
    "    # Combine features\n",
    "    features = np.hstack((text_features, numerical_features))\n",
    "\n",
    "    # Predict using each model\n",
    "    predictions = {name: model.predict(features)[0] for name, model in models.items()}\n",
    "    \n",
    "    return predictions"
   ]
  },
  {
   "cell_type": "code",
   "execution_count": 111,
   "id": "10983496",
   "metadata": {},
   "outputs": [],
   "source": [
    "def is_fake_job(job_data):\n",
    "    \"\"\"\n",
    "    Checks if a job posting meets conditions to be classified as fake.\n",
    "    Returns True for fake jobs, False otherwise.\n",
    "    \"\"\"\n",
    "    # 2. Check for no experience required in senior-level positions\n",
    "    title = job_data.get(\"title\", \"\").lower()\n",
    "    required_experience = job_data.get(\"required_experience\", \"\").lower()\n",
    "    if \"senior\" in title and \"no experience\" in required_experience:\n",
    "        return True, \"Senior role with no experience required\"\n",
    "\n",
    "    # 3. Mismatched job title and requirements\n",
    "#     requirements = job_data.get(\"requirements\", \"\").lower()\n",
    "#     industry = job_data.get(\"industry\", \"\").lower()\n",
    "#     if industry and not any(keyword in requirements for keyword in industry.split()):\n",
    "#         return True, \"Requirements do not match industry\"\n",
    "\n",
    "    # 4. Company profile missing or vague\n",
    "    company_profile = job_data.get(\"company_profile\", \"\").strip()\n",
    "    if not company_profile or len(company_profile) < 20:\n",
    "        return True, \"Vague or missing company profile\"\n",
    "\n",
    "    # 5. Suspicious or overly generic job description\n",
    "    description = job_data.get(\"description\", \"\").strip().lower()\n",
    "    if len(description) < 50 or \"easy income\" in description or \"get rich quick\" in description:\n",
    "        return True, \"Suspicious or overly generic description\"\n",
    "\n",
    "    # 6. Location issues\n",
    "    location = job_data.get(\"location\", \"\").strip().lower()\n",
    "    if not location or location == \"worldwide\":\n",
    "        return True, \"Unspecified or vague location\"\n",
    "\n",
    "\n",
    "    # 8. Upfront payments requested\n",
    "    if \"fee\" in description or \"payment required\" in description:\n",
    "        return True, \"Upfront payments requested\"\n",
    "\n",
    "    # 9. Overuse of buzzwords\n",
    "    buzzwords = [\"easy money\", \"unlimited bonuses\", \"no targets\"] \n",
    "    if any(buzzword in description for buzzword in buzzwords):\n",
    "        return True, \"Overuse of buzzwords\"\n",
    "\n",
    "    # 10. Mismatched experience and salary\n",
    "    salary = job_data.get(\"salary\", 0)\n",
    "    high_salary_threshold = 200000\n",
    "    if int(salary) > high_salary_threshold and \"no experience\" in required_experience:\n",
    "        return True, \"High salary and no experience required\"\n",
    "\n",
    "    # If no conditions are met, the job is likely real\n",
    "    return False, \"Real job\""
   ]
  },
  {
   "cell_type": "code",
   "execution_count": 104,
   "id": "468662bd",
   "metadata": {},
   "outputs": [],
   "source": [
    "new_job = {\n",
    "    \"title\": \"Software Engineer\",\n",
    "    \"company_profile\": \"We are a leading tech company.\",\n",
    "    \"description\": \"Develop and maintain software solutions.\",\n",
    "    \"requirements\": \"Python, Machine Learning, APIs\",\n",
    "    \"benefits\": \"Health insurance, paid time off\",\n",
    "    \"employment_type\": \"Full-time\",\n",
    "    \"industry\": \"Information Technology\",\n",
    "    \"function\": \"Engineering\",\n",
    "}\n"
   ]
  },
  {
   "cell_type": "code",
   "execution_count": 106,
   "id": "2e987c9c",
   "metadata": {
    "scrolled": true
   },
   "outputs": [
    {
     "name": "stdout",
     "output_type": "stream",
     "text": [
      "Fake Suspicious or overly generic description\n"
     ]
    }
   ],
   "source": [
    "is_fake, reason = is_fake_job(new_job)\n",
    "\n",
    "# Print the result\n",
    "if is_fake:\n",
    "    print(\"Fake\",reason)\n",
    "else:\n",
    "    predictions = predict_job(new_job)\n",
    "    print(\"Predictions for the new job:\")\n",
    "    for model_name, prediction in predictions.items():\n",
    "        print(f\"{model_name}: {'Fake' if prediction == 1 else 'Real'}\")\n"
   ]
  },
  {
   "cell_type": "code",
   "execution_count": 107,
   "id": "750bf81b",
   "metadata": {},
   "outputs": [],
   "source": [
    "new_job = {\n",
    "    \"title\": \"Software Engineer\",\n",
    "    \"company_profile\": \"We are a leading tech company.\",\n",
    "    \"description\": \"Develop and maintain software solutions.\",\n",
    "    \"requirements\": \"sockets,electric devices\",\n",
    "    \"benefits\": \"Health insurance, paid time off\",\n",
    "    \"employment_type\": \"Full-time\",\n",
    "    \"industry\": \"Electronic Engineering\",\n",
    "    \"function\": \"Engineering\",\n",
    "    \"location\": \"India\",\n",
    "}"
   ]
  },
  {
   "cell_type": "code",
   "execution_count": 108,
   "id": "098aaa87",
   "metadata": {},
   "outputs": [
    {
     "name": "stdout",
     "output_type": "stream",
     "text": [
      "Fake Suspicious or overly generic description\n"
     ]
    }
   ],
   "source": [
    "is_fake, reason = is_fake_job(new_job)\n",
    "\n",
    "# Print the result\n",
    "if is_fake:\n",
    "    print(\"Fake\",reason)\n",
    "else:\n",
    "    predictions = predict_job(new_job)\n",
    "    print(\"Predictions for the new job:\")\n",
    "    for model_name, prediction in predictions.items():\n",
    "        print(f\"{model_name}: {'Fake' if prediction == 1 else 'Real'}\")"
   ]
  },
  {
   "cell_type": "code",
   "execution_count": 88,
   "id": "98edc36c",
   "metadata": {},
   "outputs": [
    {
     "name": "stdout",
     "output_type": "stream",
     "text": [
      "Predictions for the new job:\n",
      "Logistic Regression: Real\n",
      "Random Forest: Real\n",
      "SVM: Real\n"
     ]
    },
    {
     "name": "stderr",
     "output_type": "stream",
     "text": [
      "C:\\Users\\shyamrao\\anaconda3\\lib\\site-packages\\numpy\\lib\\arraysetops.py:608: FutureWarning: elementwise comparison failed; returning scalar instead, but in the future will perform elementwise comparison\n",
      "  mask |= (ar1 == a)\n"
     ]
    }
   ],
   "source": [
    "predictions = predict_job(new_job)\n",
    "print(\"Predictions for the new job:\")\n",
    "for model_name, prediction in predictions.items():\n",
    "    print(f\"{model_name}: {'Fake' if prediction == 1 else 'Real'}\")"
   ]
  },
  {
   "cell_type": "code",
   "execution_count": 112,
   "id": "5a58b728",
   "metadata": {},
   "outputs": [],
   "source": [
    "new_job = {\n",
    "    \"title\": \"Data Entry Specialist - Immediate Hiring\",\n",
    "    \"company_profile\": \"We are a rapidly expanding global company offering easy remote work opportunities.\",\n",
    "    \"description\": \"Join us today and start earning immediately with simple data entry tasks from the comfort of your home. No experience necessary!\",\n",
    "    \"requirements\": \"Basic computer knowledge, must have a laptop or smartphone, and be available for 24/7 work.\",\n",
    "    \"benefits\": \"Earn up to $3,000/week, work from home, flexible hours, no interviews.\",\n",
    "    \"employment_type\": \"Part-time, Contract\",\n",
    "    \"industry\": \"Online Services\",\n",
    "    \"function\": \"Data Entry\",\n",
    "    \"location\": \"Remote\",\n",
    "}\n"
   ]
  },
  {
   "cell_type": "code",
   "execution_count": 113,
   "id": "995e8a2f",
   "metadata": {},
   "outputs": [
    {
     "name": "stdout",
     "output_type": "stream",
     "text": [
      "Predictions for the new job:\n",
      "Logistic Regression: Real\n",
      "Random Forest: Real\n",
      "SVM: Fake\n"
     ]
    },
    {
     "name": "stderr",
     "output_type": "stream",
     "text": [
      "C:\\Users\\shyamrao\\anaconda3\\lib\\site-packages\\numpy\\lib\\arraysetops.py:608: FutureWarning: elementwise comparison failed; returning scalar instead, but in the future will perform elementwise comparison\n",
      "  mask |= (ar1 == a)\n"
     ]
    }
   ],
   "source": [
    "is_fake, reason = is_fake_job(new_job)\n",
    "\n",
    "# Print the result\n",
    "if is_fake:\n",
    "    print(\"Fake\",reason)\n",
    "else:\n",
    "    predictions = predict_job(new_job)\n",
    "    print(\"Predictions for the new job:\")\n",
    "    for model_name, prediction in predictions.items():\n",
    "        print(f\"{model_name}: {'Fake' if prediction == 1 else 'Real'}\")"
   ]
  },
  {
   "cell_type": "code",
   "execution_count": 92,
   "id": "66f7ee1b",
   "metadata": {},
   "outputs": [],
   "source": [
    "new_job = {\n",
    "    \"title\": \"Software Engineer - Work from Home\",\n",
    "    \"company_profile\": \"We are a growing global company offering remote work opportunities in tech.\",\n",
    "    \"description\": \"We are looking for a skilled software engineer to join our team. You will work on cutting-edge software projects from home.\",\n",
    "    \"requirements\": \"Experience with farming equipment, knowledge of irrigation systems, and agricultural machinery.\",\n",
    "    \"benefits\": \"Flexible working hours, opportunity to work from home, and a competitive salary.\",\n",
    "    \"employment_type\": \"Full-time\",\n",
    "    \"industry\": \"Software Development\",\n",
    "    \"function\": \"Engineering\",\n",
    "    \"location\": \"Remote\",\n",
    "}\n"
   ]
  },
  {
   "cell_type": "code",
   "execution_count": 93,
   "id": "57df20eb",
   "metadata": {},
   "outputs": [
    {
     "name": "stdout",
     "output_type": "stream",
     "text": [
      "Predictions for the new job:\n",
      "Logistic Regression: Real\n",
      "Random Forest: Real\n",
      "SVM: Real\n"
     ]
    },
    {
     "name": "stderr",
     "output_type": "stream",
     "text": [
      "C:\\Users\\shyamrao\\anaconda3\\lib\\site-packages\\numpy\\lib\\arraysetops.py:608: FutureWarning: elementwise comparison failed; returning scalar instead, but in the future will perform elementwise comparison\n",
      "  mask |= (ar1 == a)\n"
     ]
    }
   ],
   "source": [
    "predictions = predict_job(new_job)\n",
    "print(\"Predictions for the new job:\")\n",
    "for model_name, prediction in predictions.items():\n",
    "    print(f\"{model_name}: {'Fake' if prediction == 1 else 'Real'}\")"
   ]
  },
  {
   "cell_type": "code",
   "execution_count": null,
   "id": "baefc53b",
   "metadata": {},
   "outputs": [],
   "source": []
  }
 ],
 "metadata": {
  "kernelspec": {
   "display_name": "Python 3",
   "language": "python",
   "name": "python3"
  },
  "language_info": {
   "codemirror_mode": {
    "name": "ipython",
    "version": 3
   },
   "file_extension": ".py",
   "mimetype": "text/x-python",
   "name": "python",
   "nbconvert_exporter": "python",
   "pygments_lexer": "ipython3",
   "version": "3.8.8"
  }
 },
 "nbformat": 4,
 "nbformat_minor": 5
}
